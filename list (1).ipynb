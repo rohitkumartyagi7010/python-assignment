{
 "cells": [
  {
   "cell_type": "code",
   "execution_count": 2,
   "id": "a1948449-62f5-4b49-bbb3-2ea883fbca10",
   "metadata": {},
   "outputs": [
    {
     "name": "stdout",
     "output_type": "stream",
     "text": [
      "<class 'list'>\n"
     ]
    }
   ],
   "source": [
    "my_list = []\n",
    "print(type(my_list))"
   ]
  },
  {
   "cell_type": "code",
   "execution_count": 3,
   "id": "320e322a-2ed7-471c-8fd0-9dcd05abf74e",
   "metadata": {},
   "outputs": [
    {
     "name": "stdout",
     "output_type": "stream",
     "text": [
      "<class 'list'>\n"
     ]
    }
   ],
   "source": [
    "my_list2 = list()\n",
    "print(type(my_list2))"
   ]
  },
  {
   "cell_type": "code",
   "execution_count": 4,
   "id": "fa8b62f9-3cfb-4155-8057-699bc4763cef",
   "metadata": {},
   "outputs": [
    {
     "name": "stdout",
     "output_type": "stream",
     "text": [
      "<class 'list'>\n"
     ]
    }
   ],
   "source": [
    "my_list = [1,2,3,\"hello\"]\n",
    "print(type(my_list))"
   ]
  },
  {
   "cell_type": "code",
   "execution_count": 5,
   "id": "79cf3dff-b5b6-4003-a1dd-5e044dc03f84",
   "metadata": {},
   "outputs": [
    {
     "name": "stdout",
     "output_type": "stream",
     "text": [
      "[1, 2, 3, 'hello']\n"
     ]
    }
   ],
   "source": [
    "print(my_list)"
   ]
  },
  {
   "cell_type": "code",
   "execution_count": 6,
   "id": "975c2588-7364-45ac-92e2-19253cee2293",
   "metadata": {},
   "outputs": [
    {
     "name": "stdout",
     "output_type": "stream",
     "text": [
      "<class 'list'>\n"
     ]
    }
   ],
   "source": [
    "my_list2 = list((1,2,\"python\"))\n",
    "print(type(my_list2))"
   ]
  },
  {
   "cell_type": "code",
   "execution_count": 8,
   "id": "30a4079d-0ccc-48ad-96a9-674a4e5e768c",
   "metadata": {},
   "outputs": [
    {
     "data": {
      "text/plain": [
       "[1, 2, 'python']"
      ]
     },
     "execution_count": 8,
     "metadata": {},
     "output_type": "execute_result"
    }
   ],
   "source": [
    "my_list2"
   ]
  },
  {
   "cell_type": "markdown",
   "id": "d28f8178-1381-46b1-bc44-543a20645226",
   "metadata": {},
   "source": [
    "# 1. Ordered"
   ]
  },
  {
   "cell_type": "code",
   "execution_count": 9,
   "id": "4a9b8360-c50b-4c16-be56-92830343f711",
   "metadata": {},
   "outputs": [],
   "source": [
    "my_list = [1, 2, 'python']"
   ]
  },
  {
   "cell_type": "code",
   "execution_count": null,
   "id": "092c2106-bc09-4314-acf3-0641b7cf334c",
   "metadata": {},
   "outputs": [],
   "source": []
  },
  {
   "cell_type": "markdown",
   "id": "24f96314-c97d-479b-8c87-bb47949a1561",
   "metadata": {},
   "source": [
    "# 2. Indexed"
   ]
  },
  {
   "cell_type": "code",
   "execution_count": 10,
   "id": "dfa865e3-cac3-410d-ac71-f78e746453fd",
   "metadata": {},
   "outputs": [],
   "source": [
    "my_list = [1, 2, 'python']"
   ]
  },
  {
   "cell_type": "code",
   "execution_count": null,
   "id": "31d560b5-d87d-4f89-acb4-dc428b6f6546",
   "metadata": {},
   "outputs": [],
   "source": []
  },
  {
   "cell_type": "markdown",
   "id": "29969dfd-9914-4883-a6bd-751ad7cdd11d",
   "metadata": {},
   "source": [
    "# 3. Mutable"
   ]
  },
  {
   "cell_type": "code",
   "execution_count": null,
   "id": "0e215067-92b1-4e71-8477-de20cc307ccf",
   "metadata": {},
   "outputs": [],
   "source": [
    "my_list = [1, 2, 'python']"
   ]
  },
  {
   "cell_type": "code",
   "execution_count": null,
   "id": "156011c2-9260-47fc-8d19-1b2ec478f2c9",
   "metadata": {},
   "outputs": [],
   "source": []
  },
  {
   "cell_type": "markdown",
   "id": "6f0fa688-9417-4f26-b153-7f92b85019d1",
   "metadata": {},
   "source": [
    "# 4. Allows Duplicate Elements:"
   ]
  },
  {
   "cell_type": "code",
   "execution_count": 11,
   "id": "8880e19c-68a0-4653-9be2-49e1b0c6a1e3",
   "metadata": {},
   "outputs": [],
   "source": [
    "my_list = [1, 2, 2, 3]"
   ]
  },
  {
   "cell_type": "code",
   "execution_count": null,
   "id": "7c9b9bf2-bc4d-4c3b-9e09-9f6551c14d98",
   "metadata": {},
   "outputs": [],
   "source": []
  },
  {
   "cell_type": "markdown",
   "id": "242c0090-cc8c-45e8-8b87-53a94731ed80",
   "metadata": {},
   "source": [
    "# 5. Heterogeneous:"
   ]
  },
  {
   "cell_type": "code",
   "execution_count": null,
   "id": "2cfb24e4-38a4-474c-82cf-2e1a171ef4e7",
   "metadata": {},
   "outputs": [],
   "source": [
    "my_list = [1, \"Python\", (3, 4, 5)]"
   ]
  }
 ],
 "metadata": {
  "kernelspec": {
   "display_name": "Python 3 (ipykernel)",
   "language": "python",
   "name": "python3"
  },
  "language_info": {
   "codemirror_mode": {
    "name": "ipython",
    "version": 3
   },
   "file_extension": ".py",
   "mimetype": "text/x-python",
   "name": "python",
   "nbconvert_exporter": "python",
   "pygments_lexer": "ipython3",
   "version": "3.11.7"
  }
 },
 "nbformat": 4,
 "nbformat_minor": 5
}
